{
  "nbformat": 4,
  "nbformat_minor": 0,
  "metadata": {
    "colab": {
      "name": "CNN.ipynb",
      "provenance": [],
      "authorship_tag": "ABX9TyPoT8vAZRDSj0t3XavjNHM6",
      "include_colab_link": true
    },
    "kernelspec": {
      "name": "python3",
      "display_name": "Python 3"
    },
    "language_info": {
      "name": "python"
    }
  },
  "cells": [
    {
      "cell_type": "markdown",
      "metadata": {
        "id": "view-in-github",
        "colab_type": "text"
      },
      "source": [
        "<a href=\"https://colab.research.google.com/github/wooysj/hello-world/blob/main/CNN.ipynb\" target=\"_parent\"><img src=\"https://colab.research.google.com/assets/colab-badge.svg\" alt=\"Open In Colab\"/></a>"
      ]
    },
    {
      "cell_type": "code",
      "execution_count": null,
      "metadata": {
        "id": "-IQGqtGwQaeX"
      },
      "outputs": [],
      "source": [
        "import pandas as pd\n",
        "import numpy as np\n",
        "\n",
        "import matplotlib.pyplot as plt"
      ]
    },
    {
      "cell_type": "code",
      "source": [
        "from tensorflow.keras.datasets import cifar10"
      ],
      "metadata": {
        "id": "jdQxzR4zQiE-"
      },
      "execution_count": null,
      "outputs": []
    },
    {
      "cell_type": "code",
      "source": [
        "(x_train, y_train), (x_test, y_test) = cifar10.load_data()"
      ],
      "metadata": {
        "id": "R1Q0FFZhQlid"
      },
      "execution_count": null,
      "outputs": []
    },
    {
      "cell_type": "code",
      "source": [
        "x_train.shape"
      ],
      "metadata": {
        "colab": {
          "base_uri": "https://localhost:8080/"
        },
        "id": "02E-U8NZQvuR",
        "outputId": "c8375d51-924f-45dd-85b9-0bd977a997c6"
      },
      "execution_count": null,
      "outputs": [
        {
          "output_type": "execute_result",
          "data": {
            "text/plain": [
              "(50000, 32, 32, 3)"
            ]
          },
          "metadata": {},
          "execution_count": 5
        }
      ]
    },
    {
      "cell_type": "code",
      "source": [
        "from tensorflow.keras.utils import to_categorical"
      ],
      "metadata": {
        "id": "HcMNig4YQySX"
      },
      "execution_count": null,
      "outputs": []
    },
    {
      "cell_type": "code",
      "source": [
        "x_train = x_train/255\n",
        "x_test = x_test/255"
      ],
      "metadata": {
        "id": "wUs1zdqqQ9rp"
      },
      "execution_count": null,
      "outputs": []
    },
    {
      "cell_type": "code",
      "source": [
        "y_cat_train = to_categorical(y_train,10)"
      ],
      "metadata": {
        "id": "ZID-30c4RCQv"
      },
      "execution_count": null,
      "outputs": []
    },
    {
      "cell_type": "code",
      "source": [
        "from tensorflow.keras.models import Sequential\n",
        "from tensorflow.keras.layers import Dense, Conv2D, MaxPool2D, Flatten"
      ],
      "metadata": {
        "id": "vlvvtaX_RHTN"
      },
      "execution_count": null,
      "outputs": []
    },
    {
      "cell_type": "code",
      "source": [
        "y_cat_test = to_categorical(y_test, 10)"
      ],
      "metadata": {
        "id": "8iAuFwiWRPiI"
      },
      "execution_count": null,
      "outputs": []
    },
    {
      "cell_type": "code",
      "source": [
        "model = Sequential()\n",
        "\n",
        "model.add(Conv2D(filters=32, kernel_size=(4,4), input_shape=(32,32,3), activation='relu'))\n",
        "model.add(MaxPool2D(pool_size=(2,2)))\n",
        "\n",
        "model.add(Conv2D(filters=32, kernel_size=(4,4), input_shape=(32,32,3), activation='relu'))\n",
        "model.add(MaxPool2D(pool_size=(2,2)))\n",
        "\n",
        "model.add(Flatten())\n",
        "\n",
        "model.add(Dense(256, activation='relu'))\n",
        "\n",
        "model.add(Dense(10, activation='softmax'))\n",
        "\n",
        "model.compile(loss='categorical_crossentropy', optimizer='adam',\n",
        "              metrics=['accuracy'])"
      ],
      "metadata": {
        "id": "-dnB9txwRZ5v"
      },
      "execution_count": null,
      "outputs": []
    },
    {
      "cell_type": "code",
      "source": [
        "model.summary()"
      ],
      "metadata": {
        "colab": {
          "base_uri": "https://localhost:8080/"
        },
        "id": "F4Cl9NCxSoWi",
        "outputId": "230f9194-1b60-4ed5-b43b-1dde64478467"
      },
      "execution_count": null,
      "outputs": [
        {
          "output_type": "stream",
          "name": "stdout",
          "text": [
            "Model: \"sequential_2\"\n",
            "_________________________________________________________________\n",
            " Layer (type)                Output Shape              Param #   \n",
            "=================================================================\n",
            " conv2d_4 (Conv2D)           (None, 29, 29, 32)        1568      \n",
            "                                                                 \n",
            " max_pooling2d_3 (MaxPooling  (None, 14, 14, 32)       0         \n",
            " 2D)                                                             \n",
            "                                                                 \n",
            " conv2d_5 (Conv2D)           (None, 11, 11, 32)        16416     \n",
            "                                                                 \n",
            " max_pooling2d_4 (MaxPooling  (None, 5, 5, 32)         0         \n",
            " 2D)                                                             \n",
            "                                                                 \n",
            " flatten_1 (Flatten)         (None, 800)               0         \n",
            "                                                                 \n",
            " dense_2 (Dense)             (None, 256)               205056    \n",
            "                                                                 \n",
            " dense_3 (Dense)             (None, 10)                2570      \n",
            "                                                                 \n",
            "=================================================================\n",
            "Total params: 225,610\n",
            "Trainable params: 225,610\n",
            "Non-trainable params: 0\n",
            "_________________________________________________________________\n"
          ]
        }
      ]
    },
    {
      "cell_type": "code",
      "source": [
        "from tensorflow.keras.callbacks import EarlyStopping"
      ],
      "metadata": {
        "id": "ISnHAqadSpOA"
      },
      "execution_count": null,
      "outputs": []
    },
    {
      "cell_type": "code",
      "source": [
        "early_stop = EarlyStopping(monitor='val_loss', patience=2)"
      ],
      "metadata": {
        "id": "3DqG5PYuSuJ-"
      },
      "execution_count": null,
      "outputs": []
    },
    {
      "cell_type": "code",
      "source": [
        "model.fit(x_train, y_cat_train, epochs=15, validation_data=[x_test, y_cat_test], callbacks=[early_stop])"
      ],
      "metadata": {
        "colab": {
          "base_uri": "https://localhost:8080/"
        },
        "id": "xa3kHJcjSzsV",
        "outputId": "b8829c92-0af0-4607-ca74-8bdbed6c61f5"
      },
      "execution_count": null,
      "outputs": [
        {
          "output_type": "stream",
          "name": "stdout",
          "text": [
            "Epoch 1/15\n",
            "1563/1563 [==============================] - 65s 41ms/step - loss: 1.5043 - accuracy: 0.4559 - val_loss: 1.3600 - val_accuracy: 0.5152\n",
            "Epoch 2/15\n",
            "1563/1563 [==============================] - 62s 40ms/step - loss: 1.1742 - accuracy: 0.5872 - val_loss: 1.1069 - val_accuracy: 0.6117\n",
            "Epoch 3/15\n",
            "1563/1563 [==============================] - 61s 39ms/step - loss: 1.0342 - accuracy: 0.6357 - val_loss: 1.0989 - val_accuracy: 0.6123\n",
            "Epoch 4/15\n",
            "1563/1563 [==============================] - 61s 39ms/step - loss: 0.9306 - accuracy: 0.6752 - val_loss: 0.9847 - val_accuracy: 0.6573\n",
            "Epoch 5/15\n",
            "1563/1563 [==============================] - 62s 40ms/step - loss: 0.8392 - accuracy: 0.7054 - val_loss: 0.9670 - val_accuracy: 0.6624\n",
            "Epoch 6/15\n",
            "1563/1563 [==============================] - 62s 40ms/step - loss: 0.7631 - accuracy: 0.7319 - val_loss: 0.9963 - val_accuracy: 0.6654\n",
            "Epoch 7/15\n",
            "1563/1563 [==============================] - 63s 40ms/step - loss: 0.6855 - accuracy: 0.7583 - val_loss: 0.9994 - val_accuracy: 0.6677\n"
          ]
        },
        {
          "output_type": "execute_result",
          "data": {
            "text/plain": [
              "<keras.callbacks.History at 0x7f898ce7e890>"
            ]
          },
          "metadata": {},
          "execution_count": 24
        }
      ]
    },
    {
      "cell_type": "code",
      "source": [
        "losses = model.history.history"
      ],
      "metadata": {
        "id": "7ONmV53eTRIc"
      },
      "execution_count": null,
      "outputs": []
    },
    {
      "cell_type": "code",
      "source": [
        "losses = pd.DataFrame(losses)"
      ],
      "metadata": {
        "id": "6UswokevVM16"
      },
      "execution_count": null,
      "outputs": []
    },
    {
      "cell_type": "code",
      "source": [
        "losses[['loss','val_loss']].plot()"
      ],
      "metadata": {
        "colab": {
          "base_uri": "https://localhost:8080/",
          "height": 284
        },
        "id": "DB_ARvyEVOqn",
        "outputId": "202c754e-f679-4ebb-ef8c-54b74ca35ece"
      },
      "execution_count": null,
      "outputs": [
        {
          "output_type": "execute_result",
          "data": {
            "text/plain": [
              "<matplotlib.axes._subplots.AxesSubplot at 0x7f898d0e23d0>"
            ]
          },
          "metadata": {},
          "execution_count": 32
        },
        {
          "output_type": "display_data",
          "data": {
            "image/png": "[encoded data removed]",
            "text/plain": [
              "<Figure size 432x288 with 1 Axes>"
            ]
          },
          "metadata": {
            "needs_background": "light"
          }
        }
      ]
    },
    {
      "cell_type": "code",
      "source": [
        "data = pd.read_csv('kc_house_data.csv')"
      ],
      "metadata": {
        "id": "u9xKFL0jVpdT"
      },
      "execution_count": null,
      "outputs": []
    },
    {
      "cell_type": "code",
      "source": [
        "data.info()"
      ],
      "metadata": {
        "colab": {
          "base_uri": "https://localhost:8080/"
        },
        "id": "fmc5ZcZZXAjB",
        "outputId": "55b3579c-b555-447a-8fb2-f2c4f011bd70"
      },
      "execution_count": null,
      "outputs": [
        {
          "output_type": "stream",
          "name": "stdout",
          "text": [
            "<class 'pandas.core.frame.DataFrame'>\n",
            "RangeIndex: 21597 entries, 0 to 21596\n",
            "Data columns (total 21 columns):\n",
            " #   Column         Non-Null Count  Dtype  \n",
            "---  ------         --------------  -----  \n",
            " 0   id             21597 non-null  int64  \n",
            " 1   date           21597 non-null  object \n",
            " 2   price          21597 non-null  float64\n",
            " 3   bedrooms       21597 non-null  int64  \n",
            " 4   bathrooms      21597 non-null  float64\n",
            " 5   sqft_living    21597 non-null  int64  \n",
            " 6   sqft_lot       21597 non-null  int64  \n",
            " 7   floors         21597 non-null  float64\n",
            " 8   waterfront     21597 non-null  int64  \n",
            " 9   view           21597 non-null  int64  \n",
            " 10  condition      21597 non-null  int64  \n",
            " 11  grade          21597 non-null  int64  \n",
            " 12  sqft_above     21597 non-null  int64  \n",
            " 13  sqft_basement  21597 non-null  int64  \n",
            " 14  yr_built       21597 non-null  int64  \n",
            " 15  yr_renovated   21597 non-null  int64  \n",
            " 16  zipcode        21597 non-null  int64  \n",
            " 17  lat            21597 non-null  float64\n",
            " 18  long           21597 non-null  float64\n",
            " 19  sqft_living15  21597 non-null  int64  \n",
            " 20  sqft_lot15     21597 non-null  int64  \n",
            "dtypes: float64(5), int64(15), object(1)\n",
            "memory usage: 3.5+ MB\n"
          ]
        }
      ]
    },
    {
      "cell_type": "code",
      "source": [
        "data.describe()"
      ],
      "metadata": {
        "colab": {
          "base_uri": "https://localhost:8080/",
          "height": 364
        },
        "id": "-F58qgofX4ny",
        "outputId": "451d1365-514e-4494-aa90-818f37f4af81"
      },
      "execution_count": null,
      "outputs": [
        {
          "output_type": "execute_result",
          "data": {
            "text/html": [
              "\n",
              "  <div id=\"df-22f35478-b81f-4b86-b743-30ff296b2049\">\n",
              "    <div class=\"colab-df-container\">\n",
              "      <div>\n",
              "<style scoped>\n",
              "    .dataframe tbody tr th:only-of-type {\n",
              "        vertical-align: middle;\n",
              "    }\n",
              "\n",
              "    .dataframe tbody tr th {\n",
              "        vertical-align: top;\n",
              "    }\n",
              "\n",
              "    .dataframe thead th {\n",
              "        text-align: right;\n",
              "    }\n",
              "</style>\n",
              "<table border=\"1\" class=\"dataframe\">\n",
              "  <thead>\n",
              "    <tr style=\"text-align: right;\">\n",
              "      <th></th>\n",
              "      <th>id</th>\n",
              "      <th>price</th>\n",
              "      <th>bedrooms</th>\n",
              "      <th>bathrooms</th>\n",
              "      <th>sqft_living</th>\n",
              "      <th>sqft_lot</th>\n",
              "      <th>floors</th>\n",
              "      <th>waterfront</th>\n",
              "      <th>view</th>\n",
              "      <th>condition</th>\n",
              "      <th>grade</th>\n",
              "      <th>sqft_above</th>\n",
              "      <th>sqft_basement</th>\n",
              "      <th>yr_built</th>\n",
              "      <th>yr_renovated</th>\n",
              "      <th>zipcode</th>\n",
              "      <th>lat</th>\n",
              "      <th>long</th>\n",
              "      <th>sqft_living15</th>\n",
              "      <th>sqft_lot15</th>\n",
              "    </tr>\n",
              "  </thead>\n",
              "  <tbody>\n",
              "    <tr>\n",
              "      <th>count</th>\n",
              "      <td>2.159700e+04</td>\n",
              "      <td>2.159700e+04</td>\n",
              "      <td>21597.000000</td>\n",
              "      <td>21597.000000</td>\n",
              "      <td>21597.000000</td>\n",
              "      <td>2.159700e+04</td>\n",
              "      <td>21597.000000</td>\n",
              "      <td>21597.000000</td>\n",
              "      <td>21597.000000</td>\n",
              "      <td>21597.000000</td>\n",
              "      <td>21597.000000</td>\n",
              "      <td>21597.000000</td>\n",
              "      <td>21597.000000</td>\n",
              "      <td>21597.000000</td>\n",
              "      <td>21597.000000</td>\n",
              "      <td>21597.000000</td>\n",
              "      <td>21597.000000</td>\n",
              "      <td>21597.000000</td>\n",
              "      <td>21597.000000</td>\n",
              "      <td>21597.000000</td>\n",
              "    </tr>\n",
              "    <tr>\n",
              "      <th>mean</th>\n",
              "      <td>4.580474e+09</td>\n",
              "      <td>5.402966e+05</td>\n",
              "      <td>3.373200</td>\n",
              "      <td>2.115826</td>\n",
              "      <td>2080.321850</td>\n",
              "      <td>1.509941e+04</td>\n",
              "      <td>1.494096</td>\n",
              "      <td>0.007547</td>\n",
              "      <td>0.234292</td>\n",
              "      <td>3.409825</td>\n",
              "      <td>7.657915</td>\n",
              "      <td>1788.596842</td>\n",
              "      <td>291.725008</td>\n",
              "      <td>1970.999676</td>\n",
              "      <td>84.464787</td>\n",
              "      <td>98077.951845</td>\n",
              "      <td>47.560093</td>\n",
              "      <td>-122.213982</td>\n",
              "      <td>1986.620318</td>\n",
              "      <td>12758.283512</td>\n",
              "    </tr>\n",
              "    <tr>\n",
              "      <th>std</th>\n",
              "      <td>2.876736e+09</td>\n",
              "      <td>3.673681e+05</td>\n",
              "      <td>0.926299</td>\n",
              "      <td>0.768984</td>\n",
              "      <td>918.106125</td>\n",
              "      <td>4.141264e+04</td>\n",
              "      <td>0.539683</td>\n",
              "      <td>0.086549</td>\n",
              "      <td>0.766390</td>\n",
              "      <td>0.650546</td>\n",
              "      <td>1.173200</td>\n",
              "      <td>827.759761</td>\n",
              "      <td>442.667800</td>\n",
              "      <td>29.375234</td>\n",
              "      <td>401.821438</td>\n",
              "      <td>53.513072</td>\n",
              "      <td>0.138552</td>\n",
              "      <td>0.140724</td>\n",
              "      <td>685.230472</td>\n",
              "      <td>27274.441950</td>\n",
              "    </tr>\n",
              "    <tr>\n",
              "      <th>min</th>\n",
              "      <td>1.000102e+06</td>\n",
              "      <td>7.800000e+04</td>\n",
              "      <td>1.000000</td>\n",
              "      <td>0.500000</td>\n",
              "      <td>370.000000</td>\n",
              "      <td>5.200000e+02</td>\n",
              "      <td>1.000000</td>\n",
              "      <td>0.000000</td>\n",
              "      <td>0.000000</td>\n",
              "      <td>1.000000</td>\n",
              "      <td>3.000000</td>\n",
              "      <td>370.000000</td>\n",
              "      <td>0.000000</td>\n",
              "      <td>1900.000000</td>\n",
              "      <td>0.000000</td>\n",
              "      <td>98001.000000</td>\n",
              "      <td>47.155900</td>\n",
              "      <td>-122.519000</td>\n",
              "      <td>399.000000</td>\n",
              "      <td>651.000000</td>\n",
              "    </tr>\n",
              "    <tr>\n",
              "      <th>25%</th>\n",
              "      <td>2.123049e+09</td>\n",
              "      <td>3.220000e+05</td>\n",
              "      <td>3.000000</td>\n",
              "      <td>1.750000</td>\n",
              "      <td>1430.000000</td>\n",
              "      <td>5.040000e+03</td>\n",
              "      <td>1.000000</td>\n",
              "      <td>0.000000</td>\n",
              "      <td>0.000000</td>\n",
              "      <td>3.000000</td>\n",
              "      <td>7.000000</td>\n",
              "      <td>1190.000000</td>\n",
              "      <td>0.000000</td>\n",
              "      <td>1951.000000</td>\n",
              "      <td>0.000000</td>\n",
              "      <td>98033.000000</td>\n",
              "      <td>47.471100</td>\n",
              "      <td>-122.328000</td>\n",
              "      <td>1490.000000</td>\n",
              "      <td>5100.000000</td>\n",
              "    </tr>\n",
              "    <tr>\n",
              "      <th>50%</th>\n",
              "      <td>3.904930e+09</td>\n",
              "      <td>4.500000e+05</td>\n",
              "      <td>3.000000</td>\n",
              "      <td>2.250000</td>\n",
              "      <td>1910.000000</td>\n",
              "      <td>7.618000e+03</td>\n",
              "      <td>1.500000</td>\n",
              "      <td>0.000000</td>\n",
              "      <td>0.000000</td>\n",
              "      <td>3.000000</td>\n",
              "      <td>7.000000</td>\n",
              "      <td>1560.000000</td>\n",
              "      <td>0.000000</td>\n",
              "      <td>1975.000000</td>\n",
              "      <td>0.000000</td>\n",
              "      <td>98065.000000</td>\n",
              "      <td>47.571800</td>\n",
              "      <td>-122.231000</td>\n",
              "      <td>1840.000000</td>\n",
              "      <td>7620.000000</td>\n",
              "    </tr>\n",
              "    <tr>\n",
              "      <th>75%</th>\n",
              "      <td>7.308900e+09</td>\n",
              "      <td>6.450000e+05</td>\n",
              "      <td>4.000000</td>\n",
              "      <td>2.500000</td>\n",
              "      <td>2550.000000</td>\n",
              "      <td>1.068500e+04</td>\n",
              "      <td>2.000000</td>\n",
              "      <td>0.000000</td>\n",
              "      <td>0.000000</td>\n",
              "      <td>4.000000</td>\n",
              "      <td>8.000000</td>\n",
              "      <td>2210.000000</td>\n",
              "      <td>560.000000</td>\n",
              "      <td>1997.000000</td>\n",
              "      <td>0.000000</td>\n",
              "      <td>98118.000000</td>\n",
              "      <td>47.678000</td>\n",
              "      <td>-122.125000</td>\n",
              "      <td>2360.000000</td>\n",
              "      <td>10083.000000</td>\n",
              "    </tr>\n",
              "    <tr>\n",
              "      <th>max</th>\n",
              "      <td>9.900000e+09</td>\n",
              "      <td>7.700000e+06</td>\n",
              "      <td>33.000000</td>\n",
              "      <td>8.000000</td>\n",
              "      <td>13540.000000</td>\n",
              "      <td>1.651359e+06</td>\n",
              "      <td>3.500000</td>\n",
              "      <td>1.000000</td>\n",
              "      <td>4.000000</td>\n",
              "      <td>5.000000</td>\n",
              "      <td>13.000000</td>\n",
              "      <td>9410.000000</td>\n",
              "      <td>4820.000000</td>\n",
              "      <td>2015.000000</td>\n",
              "      <td>2015.000000</td>\n",
              "      <td>98199.000000</td>\n",
              "      <td>47.777600</td>\n",
              "      <td>-121.315000</td>\n",
              "      <td>6210.000000</td>\n",
              "      <td>871200.000000</td>\n",
              "    </tr>\n",
              "  </tbody>\n",
              "</table>\n",
              "</div>\n",
              "      <button class=\"colab-df-convert\" onclick=\"convertToInteractive('df-22f35478-b81f-4b86-b743-30ff296b2049')\"\n",
              "              title=\"Convert this dataframe to an interactive table.\"\n",
              "              style=\"display:none;\">\n",
              "        \n",
              "  <svg xmlns=\"http://www.w3.org/2000/svg\" height=\"24px\"viewBox=\"0 0 24 24\"\n",
              "       width=\"24px\">\n",
              "    <path d=\"M0 0h24v24H0V0z\" fill=\"none\"/>\n",
              "    <path d=\"M18.56 5.44l.94 2.06.94-2.06 2.06-.94-2.06-.94-.94-2.06-.94 2.06-2.06.94zm-11 1L8.5 8.5l.94-2.06 2.06-.94-2.06-.94L8.5 2.5l-.94 2.06-2.06.94zm10 10l.94 2.06.94-2.06 2.06-.94-2.06-.94-.94-2.06-.94 2.06-2.06.94z\"/><path d=\"M17.41 7.96l-1.37-1.37c-.4-.4-.92-.59-1.43-.59-.52 0-1.04.2-1.43.59L10.3 9.45l-7.72 7.72c-.78.78-.78 2.05 0 2.83L4 21.41c.39.39.9.59 1.41.59.51 0 1.02-.2 1.41-.59l7.78-7.78 2.81-2.81c.8-.78.8-2.07 0-2.86zM5.41 20L4 18.59l7.72-7.72 1.47 1.35L5.41 20z\"/>\n",
              "  </svg>\n",
              "      </button>\n",
              "      \n",
              "  <style>\n",
              "    .colab-df-container {\n",
              "      display:flex;\n",
              "      flex-wrap:wrap;\n",
              "      gap: 12px;\n",
              "    }\n",
              "\n",
              "    .colab-df-convert {\n",
              "      background-color: #E8F0FE;\n",
              "      border: none;\n",
              "      border-radius: 50%;\n",
              "      cursor: pointer;\n",
              "      display: none;\n",
              "      fill: #1967D2;\n",
              "      height: 32px;\n",
              "      padding: 0 0 0 0;\n",
              "      width: 32px;\n",
              "    }\n",
              "\n",
              "    .colab-df-convert:hover {\n",
              "      background-color: #E2EBFA;\n",
              "      box-shadow: 0px 1px 2px rgba(60, 64, 67, 0.3), 0px 1px 3px 1px rgba(60, 64, 67, 0.15);\n",
              "      fill: #174EA6;\n",
              "    }\n",
              "\n",
              "    [theme=dark] .colab-df-convert {\n",
              "      background-color: #3B4455;\n",
              "      fill: #D2E3FC;\n",
              "    }\n",
              "\n",
              "    [theme=dark] .colab-df-convert:hover {\n",
              "      background-color: #434B5C;\n",
              "      box-shadow: 0px 1px 3px 1px rgba(0, 0, 0, 0.15);\n",
              "      filter: drop-shadow(0px 1px 2px rgba(0, 0, 0, 0.3));\n",
              "      fill: #FFFFFF;\n",
              "    }\n",
              "  </style>\n",
              "\n",
              "      <script>\n",
              "        const buttonEl =\n",
              "          document.querySelector('#df-22f35478-b81f-4b86-b743-30ff296b2049 button.colab-df-convert');\n",
              "        buttonEl.style.display =\n",
              "          google.colab.kernel.accessAllowed ? 'block' : 'none';\n",
              "\n",
              "        async function convertToInteractive(key) {\n",
              "          const element = document.querySelector('#df-22f35478-b81f-4b86-b743-30ff296b2049');\n",
              "          const dataTable =\n",
              "            await google.colab.kernel.invokeFunction('convertToInteractive',\n",
              "                                                     [key], {});\n",
              "          if (!dataTable) return;\n",
              "\n",
              "          const docLinkHtml = 'Like what you see? Visit the ' +\n",
              "            '<a target=\"_blank\" href=https://colab.research.google.com/notebooks/data_table.ipynb>data table notebook</a>'\n",
              "            + ' to learn more about interactive tables.';\n",
              "          element.innerHTML = '';\n",
              "          dataTable['output_type'] = 'display_data';\n",
              "          await google.colab.output.renderOutput(dataTable, element);\n",
              "          const docLink = document.createElement('div');\n",
              "          docLink.innerHTML = docLinkHtml;\n",
              "          element.appendChild(docLink);\n",
              "        }\n",
              "      </script>\n",
              "    </div>\n",
              "  </div>\n",
              "  "
            ],
            "text/plain": [
              "                 id         price      bedrooms     bathrooms   sqft_living  \\\n",
              "count  2.159700e+04  2.159700e+04  21597.000000  21597.000000  21597.000000   \n",
              "mean   4.580474e+09  5.402966e+05      3.373200      2.115826   2080.321850   \n",
              "std    2.876736e+09  3.673681e+05      0.926299      0.768984    918.106125   \n",
              "min    1.000102e+06  7.800000e+04      1.000000      0.500000    370.000000   \n",
              "25%    2.123049e+09  3.220000e+05      3.000000      1.750000   1430.000000   \n",
              "50%    3.904930e+09  4.500000e+05      3.000000      2.250000   1910.000000   \n",
              "75%    7.308900e+09  6.450000e+05      4.000000      2.500000   2550.000000   \n",
              "max    9.900000e+09  7.700000e+06     33.000000      8.000000  13540.000000   \n",
              "\n",
              "           sqft_lot        floors    waterfront          view     condition  \\\n",
              "count  2.159700e+04  21597.000000  21597.000000  21597.000000  21597.000000   \n",
              "mean   1.509941e+04      1.494096      0.007547      0.234292      3.409825   \n",
              "std    4.141264e+04      0.539683      0.086549      0.766390      0.650546   \n",
              "min    5.200000e+02      1.000000      0.000000      0.000000      1.000000   \n",
              "25%    5.040000e+03      1.000000      0.000000      0.000000      3.000000   \n",
              "50%    7.618000e+03      1.500000      0.000000      0.000000      3.000000   \n",
              "75%    1.068500e+04      2.000000      0.000000      0.000000      4.000000   \n",
              "max    1.651359e+06      3.500000      1.000000      4.000000      5.000000   \n",
              "\n",
              "              grade    sqft_above  sqft_basement      yr_built  yr_renovated  \\\n",
              "count  21597.000000  21597.000000   21597.000000  21597.000000  21597.000000   \n",
              "mean       7.657915   1788.596842     291.725008   1970.999676     84.464787   \n",
              "std        1.173200    827.759761     442.667800     29.375234    401.821438   \n",
              "min        3.000000    370.000000       0.000000   1900.000000      0.000000   \n",
              "25%        7.000000   1190.000000       0.000000   1951.000000      0.000000   \n",
              "50%        7.000000   1560.000000       0.000000   1975.000000      0.000000   \n",
              "75%        8.000000   2210.000000     560.000000   1997.000000      0.000000   \n",
              "max       13.000000   9410.000000    4820.000000   2015.000000   2015.000000   \n",
              "\n",
              "            zipcode           lat          long  sqft_living15     sqft_lot15  \n",
              "count  21597.000000  21597.000000  21597.000000   21597.000000   21597.000000  \n",
              "mean   98077.951845     47.560093   -122.213982    1986.620318   12758.283512  \n",
              "std       53.513072      0.138552      0.140724     685.230472   27274.441950  \n",
              "min    98001.000000     47.155900   -122.519000     399.000000     651.000000  \n",
              "25%    98033.000000     47.471100   -122.328000    1490.000000    5100.000000  \n",
              "50%    98065.000000     47.571800   -122.231000    1840.000000    7620.000000  \n",
              "75%    98118.000000     47.678000   -122.125000    2360.000000   10083.000000  \n",
              "max    98199.000000     47.777600   -121.315000    6210.000000  871200.000000  "
            ]
          },
          "metadata": {},
          "execution_count": 35
        }
      ]
    },
    {
      "cell_type": "code",
      "source": [
        "import seaborn as sns"
      ],
      "metadata": {
        "id": "q1XFxuJ1X6rw"
      },
      "execution_count": null,
      "outputs": []
    },
    {
      "cell_type": "code",
      "source": [
        "data.date"
      ],
      "metadata": {
        "colab": {
          "base_uri": "https://localhost:8080/"
        },
        "id": "Yndb2A2NYEes",
        "outputId": "e8a4686d-e51e-40da-d217-6650a77dba0f"
      },
      "execution_count": null,
      "outputs": [
        {
          "output_type": "execute_result",
          "data": {
            "text/plain": [
              "0        10/13/2014\n",
              "1         12/9/2014\n",
              "2         2/25/2015\n",
              "3         12/9/2014\n",
              "4         2/18/2015\n",
              "            ...    \n",
              "21592     5/21/2014\n",
              "21593     2/23/2015\n",
              "21594     6/23/2014\n",
              "21595     1/16/2015\n",
              "21596    10/15/2014\n",
              "Name: date, Length: 21597, dtype: object"
            ]
          },
          "metadata": {},
          "execution_count": 38
        }
      ]
    },
    {
      "cell_type": "code",
      "source": [
        "data.date = pd.to_datetime(data.date)"
      ],
      "metadata": {
        "id": "SqemPfD5YJho"
      },
      "execution_count": null,
      "outputs": []
    },
    {
      "cell_type": "code",
      "source": [
        "corrs = data.corr()['price']"
      ],
      "metadata": {
        "id": "shhTx827YPxF"
      },
      "execution_count": null,
      "outputs": []
    },
    {
      "cell_type": "code",
      "source": [
        "sns.heatmap(data.corr())"
      ],
      "metadata": {
        "colab": {
          "base_uri": "https://localhost:8080/",
          "height": 351
        },
        "id": "SJbjhXEkZTP4",
        "outputId": "d6291856-b6d1-4182-83f1-db9fed0925bd"
      },
      "execution_count": null,
      "outputs": [
        {
          "output_type": "execute_result",
          "data": {
            "text/plain": [
              "<matplotlib.axes._subplots.AxesSubplot at 0x7f8989f20110>"
            ]
          },
          "metadata": {},
          "execution_count": 42
        },
        {
          "output_type": "display_data",
          "data": {
            "image/png": "[encoded data removed]",
            "text/plain": [
              "<Figure size 432x288 with 2 Axes>"
            ]
          },
          "metadata": {
            "needs_background": "light"
          }
        }
      ]
    },
    {
      "cell_type": "code",
      "source": [
        "sns.scatterplot(x='long', y='lat', data=data, hue='price')"
      ],
      "metadata": {
        "colab": {
          "base_uri": "https://localhost:8080/",
          "height": 299
        },
        "id": "baywHzfTZV_o",
        "outputId": "972c7b12-4719-495c-b303-8b9630bcfce3"
      },
      "execution_count": null,
      "outputs": [
        {
          "output_type": "execute_result",
          "data": {
            "text/plain": [
              "<matplotlib.axes._subplots.AxesSubplot at 0x7f8989429fd0>"
            ]
          },
          "metadata": {},
          "execution_count": 43
        },
        {
          "output_type": "display_data",
          "data": {
            "image/png": "[encoded data removed]",
            "text/plain": [
              "<Figure size 432x288 with 1 Axes>"
            ]
          },
          "metadata": {
            "needs_background": "light"
          }
        }
      ]
    },
    {
      "cell_type": "code",
      "source": [
        "sns.histplot(x='price', data=data)"
      ],
      "metadata": {
        "colab": {
          "base_uri": "https://localhost:8080/",
          "height": 297
        },
        "id": "ikYDcx7DZ8DO",
        "outputId": "f172918b-1ec9-44b4-a9d1-0575872b39d1"
      },
      "execution_count": null,
      "outputs": [
        {
          "output_type": "execute_result",
          "data": {
            "text/plain": [
              "<matplotlib.axes._subplots.AxesSubplot at 0x7f8985d52a10>"
            ]
          },
          "metadata": {},
          "execution_count": 55
        },
        {
          "output_type": "display_data",
          "data": {
            "image/png": "[encoded data removed]",
            "text/plain": [
              "<Figure size 432x288 with 1 Axes>"
            ]
          },
          "metadata": {
            "needs_background": "light"
          }
        }
      ]
    },
    {
      "cell_type": "code",
      "source": [
        "tenth = data.price.quantile(0.1)\n",
        "nine = data.price.quantile(0.9)\n",
        "\n",
        "tenth, nine"
      ],
      "metadata": {
        "colab": {
          "base_uri": "https://localhost:8080/"
        },
        "id": "CGwk418FbYvm",
        "outputId": "b1781f91-369f-4270-b2da-57bac68a9c3c"
      },
      "execution_count": null,
      "outputs": [
        {
          "output_type": "execute_result",
          "data": {
            "text/plain": [
              "(245000.0, 887000.0)"
            ]
          },
          "metadata": {},
          "execution_count": 57
        }
      ]
    },
    {
      "cell_type": "code",
      "source": [
        "data_clean = data.drop(['zipcode', 'id'], axis=1)"
      ],
      "metadata": {
        "id": "idlXBLH2aIsu"
      },
      "execution_count": null,
      "outputs": []
    },
    {
      "cell_type": "code",
      "source": [
        "corrs[corrs > 0.5]"
      ],
      "metadata": {
        "colab": {
          "base_uri": "https://localhost:8080/"
        },
        "id": "AJwYiJ-Ma7la",
        "outputId": "65afad6f-3b23-4e52-ea6a-9af19180f05d"
      },
      "execution_count": null,
      "outputs": [
        {
          "output_type": "execute_result",
          "data": {
            "text/plain": [
              "price            1.000000\n",
              "bathrooms        0.525906\n",
              "sqft_living      0.701917\n",
              "grade            0.667951\n",
              "sqft_above       0.605368\n",
              "sqft_living15    0.585241\n",
              "Name: price, dtype: float64"
            ]
          },
          "metadata": {},
          "execution_count": 51
        }
      ]
    },
    {
      "cell_type": "code",
      "source": [
        "data_clean.shape"
      ],
      "metadata": {
        "colab": {
          "base_uri": "https://localhost:8080/"
        },
        "id": "JqdNmpuZbK5i",
        "outputId": "4bc3d204-09f0-43ac-bf79-7ae4675af593"
      },
      "execution_count": null,
      "outputs": [
        {
          "output_type": "execute_result",
          "data": {
            "text/plain": [
              "(21597, 19)"
            ]
          },
          "metadata": {},
          "execution_count": 53
        }
      ]
    },
    {
      "cell_type": "code",
      "source": [
        "from sklearn.model_selection import train_test_split"
      ],
      "metadata": {
        "id": "jmwJxSVPbPrm"
      },
      "execution_count": null,
      "outputs": []
    },
    {
      "cell_type": "code",
      "source": [
        "X = data_clean.drop(['price','date'], axis=1).values\n",
        "y = data_clean.price.values"
      ],
      "metadata": {
        "id": "WPF_UPL7b7nU"
      },
      "execution_count": null,
      "outputs": []
    },
    {
      "cell_type": "code",
      "source": [
        "X_train, X_test, y_train, y_test = train_test_split(X, y)"
      ],
      "metadata": {
        "id": "mxPGI-CXbzw7"
      },
      "execution_count": null,
      "outputs": []
    },
    {
      "cell_type": "code",
      "source": [
        "model_1 = Sequential()\n",
        "\n",
        "model_1.add(Dense(19, activation='relu'))\n",
        "model_1.add(Dense(19, activation='relu'))\n",
        "model_1.add(Dense(19, activation='relu'))\n",
        "model_1.add(Dense(19, activation='relu'))\n",
        "model_1.add(Dense(19, activation='relu'))\n",
        "\n",
        "model_1.add(Dense(1))\n",
        "\n",
        "model_1.compile(loss='mse', optimizer='adam')"
      ],
      "metadata": {
        "id": "FcjxHqwUa-9M"
      },
      "execution_count": null,
      "outputs": []
    },
    {
      "cell_type": "code",
      "source": [
        "model_1.fit(x=X_train, y=y_train, validation_data = (X_test, y_test), epochs=200)"
      ],
      "metadata": {
        "colab": {
          "base_uri": "https://localhost:8080/"
        },
        "id": "UKRzu93BchD4",
        "outputId": "a425a0fd-5c91-4390-f3c0-ca58e41ae499"
      },
      "execution_count": null,
      "outputs": [
        {
          "output_type": "stream",
          "name": "stdout",
          "text": [
            "Epoch 1/200\n",
            "507/507 [==============================] - 3s 4ms/step - loss: 271235792896.0000 - val_loss: 92190957568.0000\n",
            "Epoch 2/200\n",
            "507/507 [==============================] - 1s 3ms/step - loss: 77502103552.0000 - val_loss: 80846356480.0000\n",
            "Epoch 3/200\n",
            "507/507 [==============================] - 1s 3ms/step - loss: 72953839616.0000 - val_loss: 76433055744.0000\n",
            "Epoch 4/200\n",
            "507/507 [==============================] - 1s 2ms/step - loss: 69572001792.0000 - val_loss: 72744968192.0000\n",
            "Epoch 5/200\n",
            "507/507 [==============================] - 1s 3ms/step - loss: 67118010368.0000 - val_loss: 69501558784.0000\n",
            "Epoch 6/200\n",
            "507/507 [==============================] - 1s 2ms/step - loss: 65553649664.0000 - val_loss: 68891303936.0000\n",
            "Epoch 7/200\n",
            "507/507 [==============================] - 1s 2ms/step - loss: 65326223360.0000 - val_loss: 68135792640.0000\n",
            "Epoch 8/200\n",
            "507/507 [==============================] - 1s 3ms/step - loss: 65122627584.0000 - val_loss: 67836760064.0000\n",
            "Epoch 9/200\n",
            "507/507 [==============================] - 1s 3ms/step - loss: 65054388224.0000 - val_loss: 68000788480.0000\n",
            "Epoch 10/200\n",
            "507/507 [==============================] - 1s 3ms/step - loss: 64776085504.0000 - val_loss: 67433652224.0000\n",
            "Epoch 11/200\n",
            "507/507 [==============================] - 1s 3ms/step - loss: 64803016704.0000 - val_loss: 67175579648.0000\n",
            "Epoch 12/200\n",
            "507/507 [==============================] - 1s 3ms/step - loss: 64700342272.0000 - val_loss: 67039817728.0000\n",
            "Epoch 13/200\n",
            "507/507 [==============================] - 1s 2ms/step - loss: 64199983104.0000 - val_loss: 68467286016.0000\n",
            "Epoch 14/200\n",
            "507/507 [==============================] - 1s 3ms/step - loss: 64627113984.0000 - val_loss: 66262392832.0000\n",
            "Epoch 15/200\n",
            "507/507 [==============================] - 1s 3ms/step - loss: 63827767296.0000 - val_loss: 67386769408.0000\n",
            "Epoch 16/200\n",
            "507/507 [==============================] - 1s 2ms/step - loss: 63652036608.0000 - val_loss: 66149519360.0000\n",
            "Epoch 17/200\n",
            "507/507 [==============================] - 1s 3ms/step - loss: 63274065920.0000 - val_loss: 65203748864.0000\n",
            "Epoch 18/200\n",
            "507/507 [==============================] - 1s 2ms/step - loss: 62854557696.0000 - val_loss: 63776628736.0000\n",
            "Epoch 19/200\n",
            "507/507 [==============================] - 1s 3ms/step - loss: 61071605760.0000 - val_loss: 62221611008.0000\n",
            "Epoch 20/200\n",
            "507/507 [==============================] - 1s 3ms/step - loss: 60127854592.0000 - val_loss: 61674967040.0000\n",
            "Epoch 21/200\n",
            "507/507 [==============================] - 1s 3ms/step - loss: 59385843712.0000 - val_loss: 62813319168.0000\n",
            "Epoch 22/200\n",
            "507/507 [==============================] - 1s 3ms/step - loss: 58568814592.0000 - val_loss: 59347152896.0000\n",
            "Epoch 23/200\n",
            "507/507 [==============================] - 1s 3ms/step - loss: 58116784128.0000 - val_loss: 59584245760.0000\n",
            "Epoch 24/200\n",
            "507/507 [==============================] - 1s 2ms/step - loss: 57227264000.0000 - val_loss: 58430365696.0000\n",
            "Epoch 25/200\n",
            "507/507 [==============================] - 1s 2ms/step - loss: 56714022912.0000 - val_loss: 57862213632.0000\n",
            "Epoch 26/200\n",
            "507/507 [==============================] - 1s 2ms/step - loss: 56466649088.0000 - val_loss: 58876657664.0000\n",
            "Epoch 27/200\n",
            "507/507 [==============================] - 1s 3ms/step - loss: 56268767232.0000 - val_loss: 57498267648.0000\n",
            "Epoch 28/200\n",
            "507/507 [==============================] - 1s 3ms/step - loss: 56248422400.0000 - val_loss: 57331187712.0000\n",
            "Epoch 29/200\n",
            "507/507 [==============================] - 1s 3ms/step - loss: 55253405696.0000 - val_loss: 60649312256.0000\n",
            "Epoch 30/200\n",
            "507/507 [==============================] - 1s 3ms/step - loss: 55501697024.0000 - val_loss: 60609040384.0000\n",
            "Epoch 31/200\n",
            "507/507 [==============================] - 1s 3ms/step - loss: 55948193792.0000 - val_loss: 57072209920.0000\n",
            "Epoch 32/200\n",
            "507/507 [==============================] - 1s 2ms/step - loss: 55880953856.0000 - val_loss: 56643543040.0000\n",
            "Epoch 33/200\n",
            "507/507 [==============================] - 1s 3ms/step - loss: 55396716544.0000 - val_loss: 57267126272.0000\n",
            "Epoch 34/200\n",
            "507/507 [==============================] - 1s 3ms/step - loss: 55325450240.0000 - val_loss: 56995295232.0000\n",
            "Epoch 35/200\n",
            "507/507 [==============================] - 1s 3ms/step - loss: 54858735616.0000 - val_loss: 57590272000.0000\n",
            "Epoch 36/200\n",
            "507/507 [==============================] - 1s 3ms/step - loss: 55959449600.0000 - val_loss: 61018652672.0000\n",
            "Epoch 37/200\n",
            "507/507 [==============================] - 1s 3ms/step - loss: 54962667520.0000 - val_loss: 57289375744.0000\n",
            "Epoch 38/200\n",
            "507/507 [==============================] - 1s 2ms/step - loss: 54840918016.0000 - val_loss: 56198995968.0000\n",
            "Epoch 39/200\n",
            "507/507 [==============================] - 1s 3ms/step - loss: 54793879552.0000 - val_loss: 58512334848.0000\n",
            "Epoch 40/200\n",
            "507/507 [==============================] - 1s 3ms/step - loss: 54721396736.0000 - val_loss: 56101756928.0000\n",
            "Epoch 41/200\n",
            "507/507 [==============================] - 1s 2ms/step - loss: 54654726144.0000 - val_loss: 59009503232.0000\n",
            "Epoch 42/200\n",
            "507/507 [==============================] - 1s 3ms/step - loss: 54639128576.0000 - val_loss: 55906152448.0000\n",
            "Epoch 43/200\n",
            "507/507 [==============================] - 1s 3ms/step - loss: 54582276096.0000 - val_loss: 57321979904.0000\n",
            "Epoch 44/200\n",
            "507/507 [==============================] - 1s 3ms/step - loss: 55060627456.0000 - val_loss: 61126729728.0000\n",
            "Epoch 45/200\n",
            "507/507 [==============================] - 1s 2ms/step - loss: 54495133696.0000 - val_loss: 57024503808.0000\n",
            "Epoch 46/200\n",
            "507/507 [==============================] - 1s 3ms/step - loss: 54652289024.0000 - val_loss: 56827219968.0000\n",
            "Epoch 47/200\n",
            "507/507 [==============================] - 1s 2ms/step - loss: 54494310400.0000 - val_loss: 57428209664.0000\n",
            "Epoch 48/200\n",
            "507/507 [==============================] - 1s 3ms/step - loss: 54964613120.0000 - val_loss: 55811186688.0000\n",
            "Epoch 49/200\n",
            "507/507 [==============================] - 1s 3ms/step - loss: 54043475968.0000 - val_loss: 57789276160.0000\n",
            "Epoch 50/200\n",
            "507/507 [==============================] - 1s 3ms/step - loss: 54650851328.0000 - val_loss: 56383545344.0000\n",
            "Epoch 51/200\n",
            "507/507 [==============================] - 1s 3ms/step - loss: 54289326080.0000 - val_loss: 56386203648.0000\n",
            "Epoch 52/200\n",
            "507/507 [==============================] - 1s 2ms/step - loss: 54580686848.0000 - val_loss: 55987195904.0000\n",
            "Epoch 53/200\n",
            "507/507 [==============================] - 1s 2ms/step - loss: 54479634432.0000 - val_loss: 56021790720.0000\n",
            "Epoch 54/200\n",
            "507/507 [==============================] - 1s 3ms/step - loss: 54210244608.0000 - val_loss: 56204599296.0000\n",
            "Epoch 55/200\n",
            "507/507 [==============================] - 1s 3ms/step - loss: 54347935744.0000 - val_loss: 55650013184.0000\n",
            "Epoch 56/200\n",
            "507/507 [==============================] - 1s 2ms/step - loss: 54031745024.0000 - val_loss: 56213843968.0000\n",
            "Epoch 57/200\n",
            "507/507 [==============================] - 1s 2ms/step - loss: 53735677952.0000 - val_loss: 56764583936.0000\n",
            "Epoch 58/200\n",
            "507/507 [==============================] - 1s 2ms/step - loss: 53789245440.0000 - val_loss: 55538585600.0000\n",
            "Epoch 59/200\n",
            "507/507 [==============================] - 1s 3ms/step - loss: 53822705664.0000 - val_loss: 56264818688.0000\n",
            "Epoch 60/200\n",
            "507/507 [==============================] - 1s 3ms/step - loss: 53731135488.0000 - val_loss: 55150178304.0000\n",
            "Epoch 61/200\n",
            "507/507 [==============================] - 1s 3ms/step - loss: 53926035456.0000 - val_loss: 55287332864.0000\n",
            "Epoch 62/200\n",
            "507/507 [==============================] - 1s 3ms/step - loss: 54766768128.0000 - val_loss: 56077594624.0000\n",
            "Epoch 63/200\n",
            "507/507 [==============================] - 1s 3ms/step - loss: 53878140928.0000 - val_loss: 56939597824.0000\n",
            "Epoch 64/200\n",
            "507/507 [==============================] - 1s 3ms/step - loss: 53778673664.0000 - val_loss: 55787827200.0000\n",
            "Epoch 65/200\n",
            "507/507 [==============================] - 1s 3ms/step - loss: 53508603904.0000 - val_loss: 58320044032.0000\n",
            "Epoch 66/200\n",
            "507/507 [==============================] - 1s 3ms/step - loss: 53816524800.0000 - val_loss: 55450632192.0000\n",
            "Epoch 67/200\n",
            "507/507 [==============================] - 1s 3ms/step - loss: 52978155520.0000 - val_loss: 55307259904.0000\n",
            "Epoch 68/200\n",
            "507/507 [==============================] - 1s 3ms/step - loss: 53390487552.0000 - val_loss: 55558631424.0000\n",
            "Epoch 69/200\n",
            "507/507 [==============================] - 1s 3ms/step - loss: 53230534656.0000 - val_loss: 55591411712.0000\n",
            "Epoch 70/200\n",
            "507/507 [==============================] - 1s 2ms/step - loss: 53861744640.0000 - val_loss: 55223537664.0000\n",
            "Epoch 71/200\n",
            "507/507 [==============================] - 1s 2ms/step - loss: 53034692608.0000 - val_loss: 56233644032.0000\n",
            "Epoch 72/200\n",
            "507/507 [==============================] - 1s 2ms/step - loss: 53726441472.0000 - val_loss: 54915395584.0000\n",
            "Epoch 73/200\n",
            "507/507 [==============================] - 1s 3ms/step - loss: 52847828992.0000 - val_loss: 56181346304.0000\n",
            "Epoch 74/200\n",
            "507/507 [==============================] - 1s 3ms/step - loss: 52900917248.0000 - val_loss: 55916646400.0000\n",
            "Epoch 75/200\n",
            "507/507 [==============================] - 1s 3ms/step - loss: 52827148288.0000 - val_loss: 56057098240.0000\n",
            "Epoch 76/200\n",
            "507/507 [==============================] - 1s 3ms/step - loss: 52866887680.0000 - val_loss: 55811031040.0000\n",
            "Epoch 77/200\n",
            "507/507 [==============================] - 1s 3ms/step - loss: 53126270976.0000 - val_loss: 55752200192.0000\n",
            "Epoch 78/200\n",
            "507/507 [==============================] - 1s 2ms/step - loss: 52872884224.0000 - val_loss: 56172789760.0000\n",
            "Epoch 79/200\n",
            "507/507 [==============================] - 1s 2ms/step - loss: 52664307712.0000 - val_loss: 56486400000.0000\n",
            "Epoch 80/200\n",
            "507/507 [==============================] - 1s 3ms/step - loss: 53040054272.0000 - val_loss: 57694330880.0000\n",
            "Epoch 81/200\n",
            "507/507 [==============================] - 1s 2ms/step - loss: 52875513856.0000 - val_loss: 54990999552.0000\n",
            "Epoch 82/200\n",
            "507/507 [==============================] - 1s 2ms/step - loss: 52739629056.0000 - val_loss: 54926307328.0000\n",
            "Epoch 83/200\n",
            "507/507 [==============================] - 1s 3ms/step - loss: 52285112320.0000 - val_loss: 54506049536.0000\n",
            "Epoch 84/200\n",
            "507/507 [==============================] - 1s 3ms/step - loss: 52735107072.0000 - val_loss: 56189132800.0000\n",
            "Epoch 85/200\n",
            "507/507 [==============================] - 1s 3ms/step - loss: 52644999168.0000 - val_loss: 54702858240.0000\n",
            "Epoch 86/200\n",
            "507/507 [==============================] - 1s 3ms/step - loss: 52061884416.0000 - val_loss: 55298977792.0000\n",
            "Epoch 87/200\n",
            "507/507 [==============================] - 1s 3ms/step - loss: 52437913600.0000 - val_loss: 56650772480.0000\n",
            "Epoch 88/200\n",
            "507/507 [==============================] - 1s 3ms/step - loss: 53207252992.0000 - val_loss: 54514200576.0000\n",
            "Epoch 89/200\n",
            "507/507 [==============================] - 1s 3ms/step - loss: 52375916544.0000 - val_loss: 54300299264.0000\n",
            "Epoch 90/200\n",
            "507/507 [==============================] - 1s 2ms/step - loss: 52566409216.0000 - val_loss: 53710192640.0000\n",
            "Epoch 91/200\n",
            "507/507 [==============================] - 1s 3ms/step - loss: 52574728192.0000 - val_loss: 54831259648.0000\n",
            "Epoch 92/200\n",
            "507/507 [==============================] - 1s 3ms/step - loss: 52233408512.0000 - val_loss: 53994070016.0000\n",
            "Epoch 93/200\n",
            "507/507 [==============================] - 1s 3ms/step - loss: 51926007808.0000 - val_loss: 54067326976.0000\n",
            "Epoch 94/200\n",
            "507/507 [==============================] - 1s 3ms/step - loss: 52142997504.0000 - val_loss: 53966376960.0000\n",
            "Epoch 95/200\n",
            "507/507 [==============================] - 1s 3ms/step - loss: 51799846912.0000 - val_loss: 57818230784.0000\n",
            "Epoch 96/200\n",
            "507/507 [==============================] - 1s 3ms/step - loss: 51564183552.0000 - val_loss: 54413381632.0000\n",
            "Epoch 97/200\n",
            "507/507 [==============================] - 1s 3ms/step - loss: 51314196480.0000 - val_loss: 55055745024.0000\n",
            "Epoch 98/200\n",
            "507/507 [==============================] - 1s 3ms/step - loss: 51961470976.0000 - val_loss: 54669123584.0000\n",
            "Epoch 99/200\n",
            "507/507 [==============================] - 1s 3ms/step - loss: 51582271488.0000 - val_loss: 54216318976.0000\n",
            "Epoch 100/200\n",
            "507/507 [==============================] - 1s 3ms/step - loss: 51533312000.0000 - val_loss: 53625905152.0000\n",
            "Epoch 101/200\n",
            "507/507 [==============================] - 1s 3ms/step - loss: 51253501952.0000 - val_loss: 54980603904.0000\n",
            "Epoch 102/200\n",
            "507/507 [==============================] - 1s 3ms/step - loss: 51346386944.0000 - val_loss: 55983296512.0000\n",
            "Epoch 103/200\n",
            "507/507 [==============================] - 1s 3ms/step - loss: 51537547264.0000 - val_loss: 54515499008.0000\n",
            "Epoch 104/200\n",
            "507/507 [==============================] - 1s 2ms/step - loss: 51040022528.0000 - val_loss: 53222686720.0000\n",
            "Epoch 105/200\n",
            "507/507 [==============================] - 1s 2ms/step - loss: 50510508032.0000 - val_loss: 56068759552.0000\n",
            "Epoch 106/200\n",
            "507/507 [==============================] - 1s 2ms/step - loss: 50911727616.0000 - val_loss: 53976489984.0000\n",
            "Epoch 107/200\n",
            "507/507 [==============================] - 1s 3ms/step - loss: 50916044800.0000 - val_loss: 53543763968.0000\n",
            "Epoch 108/200\n",
            "507/507 [==============================] - 1s 3ms/step - loss: 50934644736.0000 - val_loss: 53062778880.0000\n",
            "Epoch 109/200\n",
            "507/507 [==============================] - 1s 3ms/step - loss: 50589962240.0000 - val_loss: 53603495936.0000\n",
            "Epoch 110/200\n",
            "507/507 [==============================] - 1s 3ms/step - loss: 50740809728.0000 - val_loss: 53385809920.0000\n",
            "Epoch 111/200\n",
            "507/507 [==============================] - 1s 3ms/step - loss: 50731798528.0000 - val_loss: 53953122304.0000\n",
            "Epoch 112/200\n",
            "507/507 [==============================] - 1s 3ms/step - loss: 50787917824.0000 - val_loss: 52410159104.0000\n",
            "Epoch 113/200\n",
            "507/507 [==============================] - 1s 3ms/step - loss: 50694393856.0000 - val_loss: 53242929152.0000\n",
            "Epoch 114/200\n",
            "507/507 [==============================] - 1s 3ms/step - loss: 50416918528.0000 - val_loss: 53070073856.0000\n",
            "Epoch 115/200\n",
            "507/507 [==============================] - 1s 2ms/step - loss: 50179010560.0000 - val_loss: 53058736128.0000\n",
            "Epoch 116/200\n",
            "507/507 [==============================] - 1s 2ms/step - loss: 50609487872.0000 - val_loss: 53103468544.0000\n",
            "Epoch 117/200\n",
            "507/507 [==============================] - 1s 3ms/step - loss: 50263363584.0000 - val_loss: 52664053760.0000\n",
            "Epoch 118/200\n",
            "507/507 [==============================] - 1s 3ms/step - loss: 49723502592.0000 - val_loss: 52633636864.0000\n",
            "Epoch 119/200\n",
            "507/507 [==============================] - 1s 2ms/step - loss: 50088751104.0000 - val_loss: 55618224128.0000\n",
            "Epoch 120/200\n",
            "507/507 [==============================] - 1s 3ms/step - loss: 50072121344.0000 - val_loss: 53591478272.0000\n",
            "Epoch 121/200\n",
            "507/507 [==============================] - 1s 3ms/step - loss: 49999585280.0000 - val_loss: 52899151872.0000\n",
            "Epoch 122/200\n",
            "507/507 [==============================] - 1s 2ms/step - loss: 49971179520.0000 - val_loss: 52951654400.0000\n",
            "Epoch 123/200\n",
            "507/507 [==============================] - 1s 2ms/step - loss: 50096324608.0000 - val_loss: 53510029312.0000\n",
            "Epoch 124/200\n",
            "507/507 [==============================] - 1s 3ms/step - loss: 49836908544.0000 - val_loss: 52377182208.0000\n",
            "Epoch 125/200\n",
            "507/507 [==============================] - 1s 3ms/step - loss: 49258631168.0000 - val_loss: 52576993280.0000\n",
            "Epoch 126/200\n",
            "507/507 [==============================] - 1s 3ms/step - loss: 50361270272.0000 - val_loss: 52635422720.0000\n",
            "Epoch 127/200\n",
            "507/507 [==============================] - 1s 3ms/step - loss: 50287476736.0000 - val_loss: 52162576384.0000\n",
            "Epoch 128/200\n",
            "507/507 [==============================] - 1s 3ms/step - loss: 49666756608.0000 - val_loss: 52422971392.0000\n",
            "Epoch 129/200\n",
            "507/507 [==============================] - 1s 3ms/step - loss: 49567096832.0000 - val_loss: 52637954048.0000\n",
            "Epoch 130/200\n",
            "507/507 [==============================] - 1s 3ms/step - loss: 49370685440.0000 - val_loss: 51508551680.0000\n",
            "Epoch 131/200\n",
            "507/507 [==============================] - 1s 3ms/step - loss: 49701396480.0000 - val_loss: 53099937792.0000\n",
            "Epoch 132/200\n",
            "507/507 [==============================] - 1s 3ms/step - loss: 49589129216.0000 - val_loss: 55679565824.0000\n",
            "Epoch 133/200\n",
            "507/507 [==============================] - 1s 2ms/step - loss: 49235787776.0000 - val_loss: 52026126336.0000\n",
            "Epoch 134/200\n",
            "507/507 [==============================] - 1s 3ms/step - loss: 49111781376.0000 - val_loss: 54299799552.0000\n",
            "Epoch 135/200\n",
            "507/507 [==============================] - 1s 2ms/step - loss: 49501032448.0000 - val_loss: 52423680000.0000\n",
            "Epoch 136/200\n",
            "507/507 [==============================] - 1s 2ms/step - loss: 49686536192.0000 - val_loss: 51821432832.0000\n",
            "Epoch 137/200\n",
            "507/507 [==============================] - 1s 3ms/step - loss: 49459216384.0000 - val_loss: 52690370560.0000\n",
            "Epoch 138/200\n",
            "507/507 [==============================] - 1s 2ms/step - loss: 48855412736.0000 - val_loss: 51539329024.0000\n",
            "Epoch 139/200\n",
            "507/507 [==============================] - 1s 3ms/step - loss: 49546579968.0000 - val_loss: 52640952320.0000\n",
            "Epoch 140/200\n",
            "507/507 [==============================] - 1s 3ms/step - loss: 49226829824.0000 - val_loss: 52221665280.0000\n",
            "Epoch 141/200\n",
            "507/507 [==============================] - 1s 3ms/step - loss: 48608325632.0000 - val_loss: 51881508864.0000\n",
            "Epoch 142/200\n",
            "507/507 [==============================] - 1s 3ms/step - loss: 49294508032.0000 - val_loss: 51526090752.0000\n",
            "Epoch 143/200\n",
            "507/507 [==============================] - 1s 3ms/step - loss: 48796999680.0000 - val_loss: 52324204544.0000\n",
            "Epoch 144/200\n",
            "507/507 [==============================] - 1s 3ms/step - loss: 49658609664.0000 - val_loss: 51664633856.0000\n",
            "Epoch 145/200\n",
            "507/507 [==============================] - 1s 3ms/step - loss: 48464236544.0000 - val_loss: 52099928064.0000\n",
            "Epoch 146/200\n",
            "507/507 [==============================] - 1s 3ms/step - loss: 48797896704.0000 - val_loss: 52788563968.0000\n",
            "Epoch 147/200\n",
            "507/507 [==============================] - 1s 3ms/step - loss: 48863604736.0000 - val_loss: 53617672192.0000\n",
            "Epoch 148/200\n",
            "507/507 [==============================] - 1s 3ms/step - loss: 48995487744.0000 - val_loss: 51510059008.0000\n",
            "Epoch 149/200\n",
            "507/507 [==============================] - 1s 3ms/step - loss: 48647237632.0000 - val_loss: 51424399360.0000\n",
            "Epoch 150/200\n",
            "507/507 [==============================] - 1s 3ms/step - loss: 49149378560.0000 - val_loss: 52602884096.0000\n",
            "Epoch 151/200\n",
            "507/507 [==============================] - 1s 3ms/step - loss: 48414932992.0000 - val_loss: 54863536128.0000\n",
            "Epoch 152/200\n",
            "507/507 [==============================] - 1s 3ms/step - loss: 48661536768.0000 - val_loss: 51566571520.0000\n",
            "Epoch 153/200\n",
            "507/507 [==============================] - 1s 2ms/step - loss: 50115555328.0000 - val_loss: 51804737536.0000\n",
            "Epoch 154/200\n",
            "507/507 [==============================] - 1s 3ms/step - loss: 48244600832.0000 - val_loss: 51109339136.0000\n",
            "Epoch 155/200\n",
            "507/507 [==============================] - 2s 3ms/step - loss: 48222797824.0000 - val_loss: 50740224000.0000\n",
            "Epoch 156/200\n",
            "507/507 [==============================] - 1s 2ms/step - loss: 48009015296.0000 - val_loss: 50728714240.0000\n",
            "Epoch 157/200\n",
            "507/507 [==============================] - 1s 3ms/step - loss: 48250171392.0000 - val_loss: 50798559232.0000\n",
            "Epoch 158/200\n",
            "507/507 [==============================] - 1s 2ms/step - loss: 48213454848.0000 - val_loss: 51677986816.0000\n",
            "Epoch 159/200\n",
            "507/507 [==============================] - 1s 3ms/step - loss: 48628178944.0000 - val_loss: 50860335104.0000\n",
            "Epoch 160/200\n",
            "507/507 [==============================] - 1s 3ms/step - loss: 48424005632.0000 - val_loss: 52070920192.0000\n",
            "Epoch 161/200\n",
            "507/507 [==============================] - 1s 2ms/step - loss: 48321159168.0000 - val_loss: 51026124800.0000\n",
            "Epoch 162/200\n",
            "507/507 [==============================] - 1s 3ms/step - loss: 47847530496.0000 - val_loss: 50541715456.0000\n",
            "Epoch 163/200\n",
            "507/507 [==============================] - 1s 3ms/step - loss: 48303730688.0000 - val_loss: 52060774400.0000\n",
            "Epoch 164/200\n",
            "507/507 [==============================] - 1s 3ms/step - loss: 48909500416.0000 - val_loss: 50859155456.0000\n",
            "Epoch 165/200\n",
            "507/507 [==============================] - 1s 3ms/step - loss: 48332832768.0000 - val_loss: 50462720000.0000\n",
            "Epoch 166/200\n",
            "507/507 [==============================] - 1s 3ms/step - loss: 48442589184.0000 - val_loss: 52735414272.0000\n",
            "Epoch 167/200\n",
            "507/507 [==============================] - 1s 3ms/step - loss: 48551649280.0000 - val_loss: 52570050560.0000\n",
            "Epoch 168/200\n",
            "507/507 [==============================] - 1s 3ms/step - loss: 47721062400.0000 - val_loss: 52682485760.0000\n",
            "Epoch 169/200\n",
            "507/507 [==============================] - 1s 3ms/step - loss: 47640592384.0000 - val_loss: 51250270208.0000\n",
            "Epoch 170/200\n",
            "507/507 [==============================] - 1s 2ms/step - loss: 48548450304.0000 - val_loss: 52964982784.0000\n",
            "Epoch 171/200\n",
            "507/507 [==============================] - 1s 2ms/step - loss: 47793942528.0000 - val_loss: 50774581248.0000\n",
            "Epoch 172/200\n",
            "507/507 [==============================] - 1s 3ms/step - loss: 47931592704.0000 - val_loss: 50601037824.0000\n",
            "Epoch 173/200\n",
            "507/507 [==============================] - 1s 3ms/step - loss: 48227528704.0000 - val_loss: 51731066880.0000\n",
            "Epoch 174/200\n",
            "507/507 [==============================] - 1s 3ms/step - loss: 48062763008.0000 - val_loss: 51695349760.0000\n",
            "Epoch 175/200\n",
            "507/507 [==============================] - 1s 3ms/step - loss: 47960117248.0000 - val_loss: 50631667712.0000\n",
            "Epoch 176/200\n",
            "507/507 [==============================] - 1s 3ms/step - loss: 47632334848.0000 - val_loss: 50692882432.0000\n",
            "Epoch 177/200\n",
            "507/507 [==============================] - 2s 3ms/step - loss: 48050573312.0000 - val_loss: 51044163584.0000\n",
            "Epoch 178/200\n",
            "507/507 [==============================] - 2s 3ms/step - loss: 47682097152.0000 - val_loss: 51088547840.0000\n",
            "Epoch 179/200\n",
            "507/507 [==============================] - 2s 3ms/step - loss: 48704430080.0000 - val_loss: 51647803392.0000\n",
            "Epoch 180/200\n",
            "507/507 [==============================] - 2s 5ms/step - loss: 47907983360.0000 - val_loss: 51576274944.0000\n",
            "Epoch 181/200\n",
            "507/507 [==============================] - 2s 4ms/step - loss: 48277532672.0000 - val_loss: 50223312896.0000\n",
            "Epoch 182/200\n",
            "507/507 [==============================] - 3s 6ms/step - loss: 47415635968.0000 - val_loss: 50172375040.0000\n",
            "Epoch 183/200\n",
            "507/507 [==============================] - 3s 5ms/step - loss: 48083922944.0000 - val_loss: 51305287680.0000\n",
            "Epoch 184/200\n",
            "507/507 [==============================] - 2s 3ms/step - loss: 47651491840.0000 - val_loss: 50416828416.0000\n",
            "Epoch 185/200\n",
            "507/507 [==============================] - 1s 3ms/step - loss: 47724654592.0000 - val_loss: 51043520512.0000\n",
            "Epoch 186/200\n",
            "507/507 [==============================] - 2s 3ms/step - loss: 47592751104.0000 - val_loss: 51193827328.0000\n",
            "Epoch 187/200\n",
            "507/507 [==============================] - 1s 3ms/step - loss: 47554596864.0000 - val_loss: 50716508160.0000\n",
            "Epoch 188/200\n",
            "507/507 [==============================] - 1s 3ms/step - loss: 47616184320.0000 - val_loss: 51187326976.0000\n",
            "Epoch 189/200\n",
            "507/507 [==============================] - 1s 3ms/step - loss: 47935819776.0000 - val_loss: 50697981952.0000\n",
            "Epoch 190/200\n",
            "507/507 [==============================] - 1s 3ms/step - loss: 47345692672.0000 - val_loss: 52940201984.0000\n",
            "Epoch 191/200\n",
            "507/507 [==============================] - 2s 3ms/step - loss: 47663128576.0000 - val_loss: 51082330112.0000\n",
            "Epoch 192/200\n",
            "507/507 [==============================] - 1s 3ms/step - loss: 47335366656.0000 - val_loss: 52029980672.0000\n",
            "Epoch 193/200\n",
            "507/507 [==============================] - 1s 3ms/step - loss: 47167848448.0000 - val_loss: 50425827328.0000\n",
            "Epoch 194/200\n",
            "507/507 [==============================] - 1s 3ms/step - loss: 47893012480.0000 - val_loss: 50746195968.0000\n",
            "Epoch 195/200\n",
            "507/507 [==============================] - 1s 3ms/step - loss: 47346454528.0000 - val_loss: 50381778944.0000\n",
            "Epoch 196/200\n",
            "507/507 [==============================] - 1s 3ms/step - loss: 47264616448.0000 - val_loss: 49909407744.0000\n",
            "Epoch 197/200\n",
            "507/507 [==============================] - 1s 3ms/step - loss: 47547506688.0000 - val_loss: 50394722304.0000\n",
            "Epoch 198/200\n",
            "507/507 [==============================] - 1s 3ms/step - loss: 47460057088.0000 - val_loss: 52231659520.0000\n",
            "Epoch 199/200\n",
            "507/507 [==============================] - 1s 3ms/step - loss: 47282708480.0000 - val_loss: 50115723264.0000\n",
            "Epoch 200/200\n",
            "507/507 [==============================] - 1s 3ms/step - loss: 47184322560.0000 - val_loss: 50482327552.0000\n"
          ]
        },
        {
          "output_type": "execute_result",
          "data": {
            "text/plain": [
              "<keras.callbacks.History at 0x7f898ddd1450>"
            ]
          },
          "metadata": {},
          "execution_count": 101
        }
      ]
    },
    {
      "cell_type": "code",
      "source": [
        "X_train.shape"
      ],
      "metadata": {
        "colab": {
          "base_uri": "https://localhost:8080/"
        },
        "id": "PAITOUiUcz9i",
        "outputId": "0e0e3e1f-b350-4f57-fcd6-8885568edc2e"
      },
      "execution_count": null,
      "outputs": [
        {
          "output_type": "execute_result",
          "data": {
            "text/plain": [
              "(16197, 17)"
            ]
          },
          "metadata": {},
          "execution_count": 109
        }
      ]
    },
    {
      "cell_type": "code",
      "source": [
        "data_clean.head()"
      ],
      "metadata": {
        "colab": {
          "base_uri": "https://localhost:8080/",
          "height": 356
        },
        "id": "pQnOjwxBewG0",
        "outputId": "019bab13-b318-4a10-a5d8-2f33114d708e"
      },
      "execution_count": null,
      "outputs": [
        {
          "output_type": "execute_result",
          "data": {
            "text/html": [
              "\n",
              "  <div id=\"df-85702d05-b857-48c5-b683-dd34ed6e14dd\">\n",
              "    <div class=\"colab-df-container\">\n",
              "      <div>\n",
              "<style scoped>\n",
              "    .dataframe tbody tr th:only-of-type {\n",
              "        vertical-align: middle;\n",
              "    }\n",
              "\n",
              "    .dataframe tbody tr th {\n",
              "        vertical-align: top;\n",
              "    }\n",
              "\n",
              "    .dataframe thead th {\n",
              "        text-align: right;\n",
              "    }\n",
              "</style>\n",
              "<table border=\"1\" class=\"dataframe\">\n",
              "  <thead>\n",
              "    <tr style=\"text-align: right;\">\n",
              "      <th></th>\n",
              "      <th>date</th>\n",
              "      <th>price</th>\n",
              "      <th>bedrooms</th>\n",
              "      <th>bathrooms</th>\n",
              "      <th>sqft_living</th>\n",
              "      <th>sqft_lot</th>\n",
              "      <th>floors</th>\n",
              "      <th>waterfront</th>\n",
              "      <th>view</th>\n",
              "      <th>condition</th>\n",
              "      <th>grade</th>\n",
              "      <th>sqft_above</th>\n",
              "      <th>sqft_basement</th>\n",
              "      <th>yr_built</th>\n",
              "      <th>yr_renovated</th>\n",
              "      <th>lat</th>\n",
              "      <th>long</th>\n",
              "      <th>sqft_living15</th>\n",
              "      <th>sqft_lot15</th>\n",
              "    </tr>\n",
              "  </thead>\n",
              "  <tbody>\n",
              "    <tr>\n",
              "      <th>0</th>\n",
              "      <td>2014-10-13</td>\n",
              "      <td>221900.0</td>\n",
              "      <td>3</td>\n",
              "      <td>1.00</td>\n",
              "      <td>1180</td>\n",
              "      <td>5650</td>\n",
              "      <td>1.0</td>\n",
              "      <td>0</td>\n",
              "      <td>0</td>\n",
              "      <td>3</td>\n",
              "      <td>7</td>\n",
              "      <td>1180</td>\n",
              "      <td>0</td>\n",
              "      <td>1955</td>\n",
              "      <td>0</td>\n",
              "      <td>47.5112</td>\n",
              "      <td>-122.257</td>\n",
              "      <td>1340</td>\n",
              "      <td>5650</td>\n",
              "    </tr>\n",
              "    <tr>\n",
              "      <th>1</th>\n",
              "      <td>2014-12-09</td>\n",
              "      <td>538000.0</td>\n",
              "      <td>3</td>\n",
              "      <td>2.25</td>\n",
              "      <td>2570</td>\n",
              "      <td>7242</td>\n",
              "      <td>2.0</td>\n",
              "      <td>0</td>\n",
              "      <td>0</td>\n",
              "      <td>3</td>\n",
              "      <td>7</td>\n",
              "      <td>2170</td>\n",
              "      <td>400</td>\n",
              "      <td>1951</td>\n",
              "      <td>1991</td>\n",
              "      <td>47.7210</td>\n",
              "      <td>-122.319</td>\n",
              "      <td>1690</td>\n",
              "      <td>7639</td>\n",
              "    </tr>\n",
              "    <tr>\n",
              "      <th>2</th>\n",
              "      <td>2015-02-25</td>\n",
              "      <td>180000.0</td>\n",
              "      <td>2</td>\n",
              "      <td>1.00</td>\n",
              "      <td>770</td>\n",
              "      <td>10000</td>\n",
              "      <td>1.0</td>\n",
              "      <td>0</td>\n",
              "      <td>0</td>\n",
              "      <td>3</td>\n",
              "      <td>6</td>\n",
              "      <td>770</td>\n",
              "      <td>0</td>\n",
              "      <td>1933</td>\n",
              "      <td>0</td>\n",
              "      <td>47.7379</td>\n",
              "      <td>-122.233</td>\n",
              "      <td>2720</td>\n",
              "      <td>8062</td>\n",
              "    </tr>\n",
              "    <tr>\n",
              "      <th>3</th>\n",
              "      <td>2014-12-09</td>\n",
              "      <td>604000.0</td>\n",
              "      <td>4</td>\n",
              "      <td>3.00</td>\n",
              "      <td>1960</td>\n",
              "      <td>5000</td>\n",
              "      <td>1.0</td>\n",
              "      <td>0</td>\n",
              "      <td>0</td>\n",
              "      <td>5</td>\n",
              "      <td>7</td>\n",
              "      <td>1050</td>\n",
              "      <td>910</td>\n",
              "      <td>1965</td>\n",
              "      <td>0</td>\n",
              "      <td>47.5208</td>\n",
              "      <td>-122.393</td>\n",
              "      <td>1360</td>\n",
              "      <td>5000</td>\n",
              "    </tr>\n",
              "    <tr>\n",
              "      <th>4</th>\n",
              "      <td>2015-02-18</td>\n",
              "      <td>510000.0</td>\n",
              "      <td>3</td>\n",
              "      <td>2.00</td>\n",
              "      <td>1680</td>\n",
              "      <td>8080</td>\n",
              "      <td>1.0</td>\n",
              "      <td>0</td>\n",
              "      <td>0</td>\n",
              "      <td>3</td>\n",
              "      <td>8</td>\n",
              "      <td>1680</td>\n",
              "      <td>0</td>\n",
              "      <td>1987</td>\n",
              "      <td>0</td>\n",
              "      <td>47.6168</td>\n",
              "      <td>-122.045</td>\n",
              "      <td>1800</td>\n",
              "      <td>7503</td>\n",
              "    </tr>\n",
              "  </tbody>\n",
              "</table>\n",
              "</div>\n",
              "      <button class=\"colab-df-convert\" onclick=\"convertToInteractive('df-85702d05-b857-48c5-b683-dd34ed6e14dd')\"\n",
              "              title=\"Convert this dataframe to an interactive table.\"\n",
              "              style=\"display:none;\">\n",
              "        \n",
              "  <svg xmlns=\"http://www.w3.org/2000/svg\" height=\"24px\"viewBox=\"0 0 24 24\"\n",
              "       width=\"24px\">\n",
              "    <path d=\"M0 0h24v24H0V0z\" fill=\"none\"/>\n",
              "    <path d=\"M18.56 5.44l.94 2.06.94-2.06 2.06-.94-2.06-.94-.94-2.06-.94 2.06-2.06.94zm-11 1L8.5 8.5l.94-2.06 2.06-.94-2.06-.94L8.5 2.5l-.94 2.06-2.06.94zm10 10l.94 2.06.94-2.06 2.06-.94-2.06-.94-.94-2.06-.94 2.06-2.06.94z\"/><path d=\"M17.41 7.96l-1.37-1.37c-.4-.4-.92-.59-1.43-.59-.52 0-1.04.2-1.43.59L10.3 9.45l-7.72 7.72c-.78.78-.78 2.05 0 2.83L4 21.41c.39.39.9.59 1.41.59.51 0 1.02-.2 1.41-.59l7.78-7.78 2.81-2.81c.8-.78.8-2.07 0-2.86zM5.41 20L4 18.59l7.72-7.72 1.47 1.35L5.41 20z\"/>\n",
              "  </svg>\n",
              "      </button>\n",
              "      \n",
              "  <style>\n",
              "    .colab-df-container {\n",
              "      display:flex;\n",
              "      flex-wrap:wrap;\n",
              "      gap: 12px;\n",
              "    }\n",
              "\n",
              "    .colab-df-convert {\n",
              "      background-color: #E8F0FE;\n",
              "      border: none;\n",
              "      border-radius: 50%;\n",
              "      cursor: pointer;\n",
              "      display: none;\n",
              "      fill: #1967D2;\n",
              "      height: 32px;\n",
              "      padding: 0 0 0 0;\n",
              "      width: 32px;\n",
              "    }\n",
              "\n",
              "    .colab-df-convert:hover {\n",
              "      background-color: #E2EBFA;\n",
              "      box-shadow: 0px 1px 2px rgba(60, 64, 67, 0.3), 0px 1px 3px 1px rgba(60, 64, 67, 0.15);\n",
              "      fill: #174EA6;\n",
              "    }\n",
              "\n",
              "    [theme=dark] .colab-df-convert {\n",
              "      background-color: #3B4455;\n",
              "      fill: #D2E3FC;\n",
              "    }\n",
              "\n",
              "    [theme=dark] .colab-df-convert:hover {\n",
              "      background-color: #434B5C;\n",
              "      box-shadow: 0px 1px 3px 1px rgba(0, 0, 0, 0.15);\n",
              "      filter: drop-shadow(0px 1px 2px rgba(0, 0, 0, 0.3));\n",
              "      fill: #FFFFFF;\n",
              "    }\n",
              "  </style>\n",
              "\n",
              "      <script>\n",
              "        const buttonEl =\n",
              "          document.querySelector('#df-85702d05-b857-48c5-b683-dd34ed6e14dd button.colab-df-convert');\n",
              "        buttonEl.style.display =\n",
              "          google.colab.kernel.accessAllowed ? 'block' : 'none';\n",
              "\n",
              "        async function convertToInteractive(key) {\n",
              "          const element = document.querySelector('#df-85702d05-b857-48c5-b683-dd34ed6e14dd');\n",
              "          const dataTable =\n",
              "            await google.colab.kernel.invokeFunction('convertToInteractive',\n",
              "                                                     [key], {});\n",
              "          if (!dataTable) return;\n",
              "\n",
              "          const docLinkHtml = 'Like what you see? Visit the ' +\n",
              "            '<a target=\"_blank\" href=https://colab.research.google.com/notebooks/data_table.ipynb>data table notebook</a>'\n",
              "            + ' to learn more about interactive tables.';\n",
              "          element.innerHTML = '';\n",
              "          dataTable['output_type'] = 'display_data';\n",
              "          await google.colab.output.renderOutput(dataTable, element);\n",
              "          const docLink = document.createElement('div');\n",
              "          docLink.innerHTML = docLinkHtml;\n",
              "          element.appendChild(docLink);\n",
              "        }\n",
              "      </script>\n",
              "    </div>\n",
              "  </div>\n",
              "  "
            ],
            "text/plain": [
              "        date     price  bedrooms  bathrooms  sqft_living  sqft_lot  floors  \\\n",
              "0 2014-10-13  221900.0         3       1.00         1180      5650     1.0   \n",
              "1 2014-12-09  538000.0         3       2.25         2570      7242     2.0   \n",
              "2 2015-02-25  180000.0         2       1.00          770     10000     1.0   \n",
              "3 2014-12-09  604000.0         4       3.00         1960      5000     1.0   \n",
              "4 2015-02-18  510000.0         3       2.00         1680      8080     1.0   \n",
              "\n",
              "   waterfront  view  condition  grade  sqft_above  sqft_basement  yr_built  \\\n",
              "0           0     0          3      7        1180              0      1955   \n",
              "1           0     0          3      7        2170            400      1951   \n",
              "2           0     0          3      6         770              0      1933   \n",
              "3           0     0          5      7        1050            910      1965   \n",
              "4           0     0          3      8        1680              0      1987   \n",
              "\n",
              "   yr_renovated      lat     long  sqft_living15  sqft_lot15  \n",
              "0             0  47.5112 -122.257           1340        5650  \n",
              "1          1991  47.7210 -122.319           1690        7639  \n",
              "2             0  47.7379 -122.233           2720        8062  \n",
              "3             0  47.5208 -122.393           1360        5000  \n",
              "4             0  47.6168 -122.045           1800        7503  "
            ]
          },
          "metadata": {},
          "execution_count": 87
        }
      ]
    },
    {
      "cell_type": "code",
      "source": [
        "losses = model_1.history.history\n",
        "losses = pd.DataFrame(losses)\n",
        "losses.plot()"
      ],
      "metadata": {
        "colab": {
          "base_uri": "https://localhost:8080/",
          "height": 295
        },
        "id": "q_JTzxxFgfau",
        "outputId": "270bc4ec-a590-4968-b929-c511c0ad97f6"
      },
      "execution_count": null,
      "outputs": [
        {
          "output_type": "execute_result",
          "data": {
            "text/plain": [
              "<matplotlib.axes._subplots.AxesSubplot at 0x7f898dc58350>"
            ]
          },
          "metadata": {},
          "execution_count": 103
        },
        {
          "output_type": "display_data",
          "data": {
            "image/png": "[encoded data removed]",
            "text/plain": [
              "<Figure size 432x288 with 1 Axes>"
            ]
          },
          "metadata": {
            "needs_background": "light"
          }
        }
      ]
    },
    {
      "cell_type": "code",
      "source": [
        "y_pred = model_1.predict(X_test)"
      ],
      "metadata": {
        "id": "M5C6er-9gxrV"
      },
      "execution_count": null,
      "outputs": []
    },
    {
      "cell_type": "code",
      "source": [
        "from sklearn.metrics import r2_score, explained_variance_score"
      ],
      "metadata": {
        "id": "-ZKQYwmyhDuM"
      },
      "execution_count": null,
      "outputs": []
    },
    {
      "cell_type": "code",
      "source": [
        "r2_score(y_test, y_pred)"
      ],
      "metadata": {
        "colab": {
          "base_uri": "https://localhost:8080/"
        },
        "id": "_K0YIE0ShL58",
        "outputId": "054df760-82d5-4b4c-9b46-b3bb9b446fff"
      },
      "execution_count": null,
      "outputs": [
        {
          "output_type": "execute_result",
          "data": {
            "text/plain": [
              "0.6477049116841508"
            ]
          },
          "metadata": {},
          "execution_count": 107
        }
      ]
    },
    {
      "cell_type": "code",
      "source": [
        "explained_variance_score(y_test, y_pred)"
      ],
      "metadata": {
        "colab": {
          "base_uri": "https://localhost:8080/"
        },
        "id": "JU_fvnfJhV84",
        "outputId": "239cc71b-6eb0-4c96-b8c3-6a0f4c601823"
      },
      "execution_count": null,
      "outputs": [
        {
          "output_type": "execute_result",
          "data": {
            "text/plain": [
              "0.6484423926747969"
            ]
          },
          "metadata": {},
          "execution_count": 108
        }
      ]
    },
    {
      "cell_type": "code",
      "source": [
        "from sklearn.preprocessing import MinMaxScaler"
      ],
      "metadata": {
        "id": "0_KotZGwjy7J"
      },
      "execution_count": null,
      "outputs": []
    },
    {
      "cell_type": "code",
      "source": [
        "single_house = data_clean.drop(['price','date'], axis=1).iloc[0]"
      ],
      "metadata": {
        "id": "UY4qisxRk2Sk"
      },
      "execution_count": null,
      "outputs": []
    },
    {
      "cell_type": "code",
      "source": [
        "single_house.values.reshape(-1,17)"
      ],
      "metadata": {
        "colab": {
          "base_uri": "https://localhost:8080/"
        },
        "id": "1JgpTivJlpb1",
        "outputId": "993f97d5-229f-4853-a50f-00329caf5ad4"
      },
      "execution_count": null,
      "outputs": [
        {
          "output_type": "execute_result",
          "data": {
            "text/plain": [
              "array([[ 3.00000e+00,  1.00000e+00,  1.18000e+03,  5.65000e+03,\n",
              "         1.00000e+00,  0.00000e+00,  0.00000e+00,  3.00000e+00,\n",
              "         7.00000e+00,  1.18000e+03,  0.00000e+00,  1.95500e+03,\n",
              "         0.00000e+00,  4.75112e+01, -1.22257e+02,  1.34000e+03,\n",
              "         5.65000e+03]])"
            ]
          },
          "metadata": {},
          "execution_count": 122
        }
      ]
    },
    {
      "cell_type": "code",
      "source": [
        "model_1.predict(single_house.values.reshape(-1,17))"
      ],
      "metadata": {
        "colab": {
          "base_uri": "https://localhost:8080/"
        },
        "id": "xGgfQqV0lqub",
        "outputId": "31dc2da0-386a-404f-f94f-fbac4922c69a"
      },
      "execution_count": null,
      "outputs": [
        {
          "output_type": "execute_result",
          "data": {
            "text/plain": [
              "array([[360119.97]], dtype=float32)"
            ]
          },
          "metadata": {},
          "execution_count": 124
        }
      ]
    },
    {
      "cell_type": "code",
      "source": [
        "data.head(1)"
      ],
      "metadata": {
        "colab": {
          "base_uri": "https://localhost:8080/",
          "height": 191
        },
        "id": "Wg10VWnMl5ff",
        "outputId": "0bf1dfac-a53a-408b-914a-a14011dd4288"
      },
      "execution_count": null,
      "outputs": [
        {
          "output_type": "execute_result",
          "data": {
            "text/html": [
              "\n",
              "  <div id=\"df-974895c4-c122-4afb-bd40-9c36db0eb8cc\">\n",
              "    <div class=\"colab-df-container\">\n",
              "      <div>\n",
              "<style scoped>\n",
              "    .dataframe tbody tr th:only-of-type {\n",
              "        vertical-align: middle;\n",
              "    }\n",
              "\n",
              "    .dataframe tbody tr th {\n",
              "        vertical-align: top;\n",
              "    }\n",
              "\n",
              "    .dataframe thead th {\n",
              "        text-align: right;\n",
              "    }\n",
              "</style>\n",
              "<table border=\"1\" class=\"dataframe\">\n",
              "  <thead>\n",
              "    <tr style=\"text-align: right;\">\n",
              "      <th></th>\n",
              "      <th>id</th>\n",
              "      <th>date</th>\n",
              "      <th>price</th>\n",
              "      <th>bedrooms</th>\n",
              "      <th>bathrooms</th>\n",
              "      <th>sqft_living</th>\n",
              "      <th>sqft_lot</th>\n",
              "      <th>floors</th>\n",
              "      <th>waterfront</th>\n",
              "      <th>view</th>\n",
              "      <th>...</th>\n",
              "      <th>grade</th>\n",
              "      <th>sqft_above</th>\n",
              "      <th>sqft_basement</th>\n",
              "      <th>yr_built</th>\n",
              "      <th>yr_renovated</th>\n",
              "      <th>zipcode</th>\n",
              "      <th>lat</th>\n",
              "      <th>long</th>\n",
              "      <th>sqft_living15</th>\n",
              "      <th>sqft_lot15</th>\n",
              "    </tr>\n",
              "  </thead>\n",
              "  <tbody>\n",
              "    <tr>\n",
              "      <th>0</th>\n",
              "      <td>7129300520</td>\n",
              "      <td>2014-10-13</td>\n",
              "      <td>221900.0</td>\n",
              "      <td>3</td>\n",
              "      <td>1.0</td>\n",
              "      <td>1180</td>\n",
              "      <td>5650</td>\n",
              "      <td>1.0</td>\n",
              "      <td>0</td>\n",
              "      <td>0</td>\n",
              "      <td>...</td>\n",
              "      <td>7</td>\n",
              "      <td>1180</td>\n",
              "      <td>0</td>\n",
              "      <td>1955</td>\n",
              "      <td>0</td>\n",
              "      <td>98178</td>\n",
              "      <td>47.5112</td>\n",
              "      <td>-122.257</td>\n",
              "      <td>1340</td>\n",
              "      <td>5650</td>\n",
              "    </tr>\n",
              "  </tbody>\n",
              "</table>\n",
              "<p>1 rows × 21 columns</p>\n",
              "</div>\n",
              "      <button class=\"colab-df-convert\" onclick=\"convertToInteractive('df-974895c4-c122-4afb-bd40-9c36db0eb8cc')\"\n",
              "              title=\"Convert this dataframe to an interactive table.\"\n",
              "              style=\"display:none;\">\n",
              "        \n",
              "  <svg xmlns=\"http://www.w3.org/2000/svg\" height=\"24px\"viewBox=\"0 0 24 24\"\n",
              "       width=\"24px\">\n",
              "    <path d=\"M0 0h24v24H0V0z\" fill=\"none\"/>\n",
              "    <path d=\"M18.56 5.44l.94 2.06.94-2.06 2.06-.94-2.06-.94-.94-2.06-.94 2.06-2.06.94zm-11 1L8.5 8.5l.94-2.06 2.06-.94-2.06-.94L8.5 2.5l-.94 2.06-2.06.94zm10 10l.94 2.06.94-2.06 2.06-.94-2.06-.94-.94-2.06-.94 2.06-2.06.94z\"/><path d=\"M17.41 7.96l-1.37-1.37c-.4-.4-.92-.59-1.43-.59-.52 0-1.04.2-1.43.59L10.3 9.45l-7.72 7.72c-.78.78-.78 2.05 0 2.83L4 21.41c.39.39.9.59 1.41.59.51 0 1.02-.2 1.41-.59l7.78-7.78 2.81-2.81c.8-.78.8-2.07 0-2.86zM5.41 20L4 18.59l7.72-7.72 1.47 1.35L5.41 20z\"/>\n",
              "  </svg>\n",
              "      </button>\n",
              "      \n",
              "  <style>\n",
              "    .colab-df-container {\n",
              "      display:flex;\n",
              "      flex-wrap:wrap;\n",
              "      gap: 12px;\n",
              "    }\n",
              "\n",
              "    .colab-df-convert {\n",
              "      background-color: #E8F0FE;\n",
              "      border: none;\n",
              "      border-radius: 50%;\n",
              "      cursor: pointer;\n",
              "      display: none;\n",
              "      fill: #1967D2;\n",
              "      height: 32px;\n",
              "      padding: 0 0 0 0;\n",
              "      width: 32px;\n",
              "    }\n",
              "\n",
              "    .colab-df-convert:hover {\n",
              "      background-color: #E2EBFA;\n",
              "      box-shadow: 0px 1px 2px rgba(60, 64, 67, 0.3), 0px 1px 3px 1px rgba(60, 64, 67, 0.15);\n",
              "      fill: #174EA6;\n",
              "    }\n",
              "\n",
              "    [theme=dark] .colab-df-convert {\n",
              "      background-color: #3B4455;\n",
              "      fill: #D2E3FC;\n",
              "    }\n",
              "\n",
              "    [theme=dark] .colab-df-convert:hover {\n",
              "      background-color: #434B5C;\n",
              "      box-shadow: 0px 1px 3px 1px rgba(0, 0, 0, 0.15);\n",
              "      filter: drop-shadow(0px 1px 2px rgba(0, 0, 0, 0.3));\n",
              "      fill: #FFFFFF;\n",
              "    }\n",
              "  </style>\n",
              "\n",
              "      <script>\n",
              "        const buttonEl =\n",
              "          document.querySelector('#df-974895c4-c122-4afb-bd40-9c36db0eb8cc button.colab-df-convert');\n",
              "        buttonEl.style.display =\n",
              "          google.colab.kernel.accessAllowed ? 'block' : 'none';\n",
              "\n",
              "        async function convertToInteractive(key) {\n",
              "          const element = document.querySelector('#df-974895c4-c122-4afb-bd40-9c36db0eb8cc');\n",
              "          const dataTable =\n",
              "            await google.colab.kernel.invokeFunction('convertToInteractive',\n",
              "                                                     [key], {});\n",
              "          if (!dataTable) return;\n",
              "\n",
              "          const docLinkHtml = 'Like what you see? Visit the ' +\n",
              "            '<a target=\"_blank\" href=https://colab.research.google.com/notebooks/data_table.ipynb>data table notebook</a>'\n",
              "            + ' to learn more about interactive tables.';\n",
              "          element.innerHTML = '';\n",
              "          dataTable['output_type'] = 'display_data';\n",
              "          await google.colab.output.renderOutput(dataTable, element);\n",
              "          const docLink = document.createElement('div');\n",
              "          docLink.innerHTML = docLinkHtml;\n",
              "          element.appendChild(docLink);\n",
              "        }\n",
              "      </script>\n",
              "    </div>\n",
              "  </div>\n",
              "  "
            ],
            "text/plain": [
              "           id       date     price  bedrooms  bathrooms  sqft_living  \\\n",
              "0  7129300520 2014-10-13  221900.0         3        1.0         1180   \n",
              "\n",
              "   sqft_lot  floors  waterfront  view  ...  grade  sqft_above  sqft_basement  \\\n",
              "0      5650     1.0           0     0  ...      7        1180              0   \n",
              "\n",
              "   yr_built  yr_renovated  zipcode      lat     long  sqft_living15  \\\n",
              "0      1955             0    98178  47.5112 -122.257           1340   \n",
              "\n",
              "   sqft_lot15  \n",
              "0        5650  \n",
              "\n",
              "[1 rows x 21 columns]"
            ]
          },
          "metadata": {},
          "execution_count": 121
        }
      ]
    },
    {
      "cell_type": "code",
      "source": [
        "plt.scatter(y_test, y_pred)\n",
        "plt.plot(y_test, y_test,'r-')\n"
      ],
      "metadata": {
        "colab": {
          "base_uri": "https://localhost:8080/",
          "height": 307
        },
        "id": "BNoMcyiKmdid",
        "outputId": "383600b0-007d-41fc-a6f4-1eec4226575b"
      },
      "execution_count": null,
      "outputs": [
        {
          "output_type": "execute_result",
          "data": {
            "text/plain": [
              "[<matplotlib.lines.Line2D at 0x7f898daa2610>]"
            ]
          },
          "metadata": {},
          "execution_count": 125
        },
        {
          "output_type": "display_data",
          "data": {
            "image/png": "[encoded data removed]",
            "text/plain": [
              "<Figure size 432x288 with 1 Axes>"
            ]
          },
          "metadata": {
            "needs_background": "light"
          }
        }
      ]
    },
    {
      "cell_type": "code",
      "source": [
        "data['area'] = data['sqft_living'] + data['sqft_lot']"
      ],
      "metadata": {
        "id": "rKMuzeAoqP_A"
      },
      "execution_count": 126,
      "outputs": []
    },
    {
      "cell_type": "code",
      "source": [
        "data['price_psf'] = data['price'] / data['area']"
      ],
      "metadata": {
        "id": "raYoI-RLm3Yh"
      },
      "execution_count": 127,
      "outputs": []
    },
    {
      "cell_type": "code",
      "source": [
        "data['price_psf'].hist(bins=100)"
      ],
      "metadata": {
        "colab": {
          "base_uri": "https://localhost:8080/",
          "height": 284
        },
        "id": "et8CedEoqZBS",
        "outputId": "126a09ea-e604-465e-8f86-15f1309f9356"
      },
      "execution_count": 129,
      "outputs": [
        {
          "output_type": "execute_result",
          "data": {
            "text/plain": [
              "<matplotlib.axes._subplots.AxesSubplot at 0x7f898d9d1310>"
            ]
          },
          "metadata": {},
          "execution_count": 129
        },
        {
          "output_type": "display_data",
          "data": {
            "image/png": "[encoded data removed]",
            "text/plain": [
              "<Figure size 432x288 with 1 Axes>"
            ]
          },
          "metadata": {
            "needs_background": "light"
          }
        }
      ]
    },
    {
      "cell_type": "code",
      "source": [
        ""
      ],
      "metadata": {
        "id": "sBoqQBQjqb_z"
      },
      "execution_count": null,
      "outputs": []
    }
  ]
}